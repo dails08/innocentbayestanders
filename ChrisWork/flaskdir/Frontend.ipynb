{
 "cells": [
  {
   "cell_type": "code",
   "execution_count": null,
   "metadata": {
    "collapsed": true
   },
   "outputs": [],
   "source": [
    "from flask_wtf import Form\n",
    "from wtforms import TextField"
   ]
  },
  {
   "cell_type": "code",
   "execution_count": 98,
   "metadata": {
    "collapsed": false
   },
   "outputs": [
    {
     "name": "stdout",
     "output_type": "stream",
     "text": [
      "Got 2 hits\n",
      "[{u'_score': 1.0, u'_type': u'bieber', u'_id': u'AVRFA3AU3VP-SR7EVm0P', u'_source': {u'best_song.title': u'Eenie Meenie', u'best_song.release_year': 2010, u'talent': 5}, u'_index': u'artist'}, {u'_score': 1.0, u'_type': u'plant', u'_id': u'AVRFA5wn3VP-SR7EVm0Q', u'_source': {u'best_song.title': u'Bron-Y-Aur Stomp', u'best_song.release_year': 1970, u'talent': 90}, u'_index': u'artist'}]\n"
     ]
    }
   ],
   "source": [
    "from elasticsearch import Elasticsearch\n",
    "es = Elasticsearch()\n",
    "res = es.search(index='artist', body={'query': {'match_all':{}}})\n",
    "print \"Got \" + str(res['hits']['total']) + \" hits\"\n",
    "print res['hits']['hits']"
   ]
  },
  {
   "cell_type": "code",
   "execution_count": 90,
   "metadata": {
    "collapsed": false
   },
   "outputs": [
    {
     "name": "stdout",
     "output_type": "stream",
     "text": [
      "Overwriting form.py\n"
     ]
    }
   ],
   "source": [
    "%%writefile form.py\n",
    "from flask_wtf import Form\n",
    "from wtforms import TextField, TextAreaField, SubmitField\n",
    "\n",
    "class ContactForm(Form):\n",
    "  name = TextField(\"Name\")\n",
    "  salary = TextField(\"Salary\")\n",
    "  submit = SubmitField(\"Form\")"
   ]
  },
  {
   "cell_type": "code",
   "execution_count": 123,
   "metadata": {
    "collapsed": false
   },
   "outputs": [
    {
     "name": "stdout",
     "output_type": "stream",
     "text": [
      "Overwriting routes.py\n"
     ]
    }
   ],
   "source": [
    "%%writefile routes.py\n",
    "from flask import Flask, render_template, request\n",
    "from form import ContactForm\n",
    "from elasticsearch import Elasticsearch\n",
    "\n",
    "app = Flask(__name__)\n",
    "\n",
    "app.secret_key = \"nihaoma\"\n",
    "\n",
    "@app.route('/')\n",
    "@app.route('/form', methods = [\"GET\", \"POST\"])\n",
    "def form():\n",
    "    form = ContactForm()\n",
    "    \n",
    "    if request.method == \"POST\":\n",
    "        print \"POST used.\"\n",
    "        es = Elasticsearch()\n",
    "        \n",
    "        res = es.search(index='va', \n",
    "                        doc_type=\"plan\",\n",
    "                        body = {\n",
    "                                    'query': {\n",
    "                                        'match_all': {}\n",
    "                                }\n",
    "                }\n",
    "                       )\n",
    "        print \"Got \" + str(res['hits']['total']) + \" hits\"\n",
    "        return render_template('resultsrefined.html', res=res['hits']['hits'])  \n",
    "    elif request.method == \"GET\":\n",
    "#         return render_template(\"basicform.html\")\n",
    "#         return \"Hello world.\"\n",
    "        print \"Calling render_template\"\n",
    "        return render_template('form.html', form=form)\n",
    "    \n",
    "if __name__==\"__main__\":\n",
    "    app.run(debug=True)"
   ]
  },
  {
   "cell_type": "code",
   "execution_count": 145,
   "metadata": {
    "collapsed": false
   },
   "outputs": [
    {
     "name": "stdout",
     "output_type": "stream",
     "text": [
      "Overwriting templates/layout.html\n"
     ]
    }
   ],
   "source": [
    "%%writefile templates/layout.html\n",
    "<!DOCTYPE html>\n",
    "<html>\n",
    "  <head>\n",
    "    <title>Innocent Bayestanders</title>    \n",
    "  </head>\n",
    "  <body>\n",
    "   \n",
    "    <header>\n",
    "      <div class=\"container\">\n",
    "        <h1 class=\"logo\">Innocent Bayestanders App</h1>\n",
    "      </div>\n",
    "    </header> \n",
    "     \n",
    "    <div class=\"container\">\n",
    "      {% block content %}\n",
    "      {% endblock %}\n",
    "    </div>\n",
    "     \n",
    "  </body>\n",
    "</html>"
   ]
  },
  {
   "cell_type": "code",
   "execution_count": 89,
   "metadata": {
    "collapsed": false
   },
   "outputs": [
    {
     "name": "stdout",
     "output_type": "stream",
     "text": [
      "Overwriting templates/form.html\n"
     ]
    }
   ],
   "source": [
    "%%writefile templates/form.html\n",
    "{% extends \"layout.html\" %}\n",
    " \n",
    "{% block content %}\n",
    "  <h2>Contact</h2>\n",
    "  <form action=\"{{ url_for('form') }}\" method=POST> \n",
    "    {{ form.name.label }}\n",
    "    {{ form.name }}\n",
    "     <br>\n",
    "    {{ form.salary.label }}\n",
    "    {{ form.salary }}\n",
    "      <br>\n",
    "    {{ form.submit }}\n",
    "  </form>\n",
    "{% endblock %}"
   ]
  },
  {
   "cell_type": "code",
   "execution_count": null,
   "metadata": {
    "collapsed": true
   },
   "outputs": [],
   "source": [
    "%%writefile templates/results.html\n",
    "{% extends \"layout.html\" %}\n",
    " \n",
    "{% block content %}\n",
    "  <h2>Results</h2>\n",
    "    \n",
    "    {% for result in res %}\n",
    "    <p>{{ result }}</p>\n",
    "    {% endfor %}\n",
    "{% endblock %}"
   ]
  },
  {
   "cell_type": "code",
   "execution_count": 143,
   "metadata": {
    "collapsed": false
   },
   "outputs": [
    {
     "name": "stdout",
     "output_type": "stream",
     "text": [
      "Overwriting templates/resultsrefined.html\n"
     ]
    }
   ],
   "source": [
    "%%writefile templates/resultsrefined.html\n",
    "<html>\n",
    "{% raw %}\n",
    "\t<head>\n",
    "\t \t<title>Response Page</title>\n",
    "\t \t<meta charset=\"utf-8\" />\n",
    "\t \t<!-- Snowplow starts plowing -->\n",
    "\t\t<script type=\"text/javascript\">\n",
    "\t\t;(function(p,l,o,w,i,n,g){if(!p[i]){p.GlobalSnowplowNamespace=p.GlobalSnowplowNamespace||[];\n",
    "\t\tp.GlobalSnowplowNamespace.push(i);p[i]=function(){(p[i].q=p[i].q||[]).push(arguments)\n",
    "\t\t};p[i].q=p[i].q||[];n=l.createElement(o);g=l.getElementsByTagName(o)[0];n.async=1;\n",
    "\t\tn.src=w;g.parentNode.insertBefore(n,g)}}(window,document,\"script\",\"//d1fc8wv8zag5ca.cloudfront.net/2.6.1/sp.js\",\"snowplow\"));\n",
    "​\n",
    "\t\twindow.snowplow('newTracker', 'cf', 'dfj7gak3gw4nh.cloudfront.net', { // Initialise a tracker\n",
    "\t\t  appId: '{{MY-SITE-ID}}',\n",
    "\t\t  cookieDomain: '{{MY-COOKIE-DOMAIN}}'\n",
    "\t\t});\n",
    "​\n",
    "\t\twindow.snowplow('trackPageView');\n",
    "\t\twindow.snowplow('enableLinkClickTracking');\n",
    "\t\t</script>\n",
    "\t\t<!-- Snowplow stops plowing -->\n",
    "\t\t\n",
    "\t\t<link rel=\"stylesheet\" href=\"http://maxcdn.bootstrapcdn.com/bootstrap/3.3.6/css/bootstrap.min.css\">\n",
    "\t\t<script src=\"https://ajax.googleapis.com/ajax/libs/jquery/1.12.0/jquery.min.js\"></script>\n",
    "\t\t<script src=\"http://maxcdn.bootstrapcdn.com/bootstrap/3.3.6/js/bootstrap.min.js\"></script>\n",
    "\t\t<style>\n",
    "\t\t\t/* Icon when the collapsible content is shown */\n",
    "\t\t\t.btn:after {\n",
    "\t\t\tfont-family: \"Glyphicons Halflings\";\n",
    "\t\t\tcontent: \"\\e114\";\n",
    "\t\t\tfloat: right;\n",
    "\t\t\tmargin-left: 15px;\n",
    "\t\t\t}\n",
    "\t\t\t/* Icon when the collapsible content is hidden */\n",
    "\t\t\t.btn.collapsed:after {\n",
    "\t\t\tcontent: \"\\e080\";\n",
    "\t\t\t}\n",
    "\t\t</style>\n",
    "​\n",
    "\t</head>\n",
    "{% endraw %}\n",
    "​\n",
    "\t<body>\n",
    "    {% set i = 0 %}\n",
    "    {% for result in res %}\n",
    "        {% set i = i + 1 %}\n",
    "\t\t<div class=\"container\">\n",
    "\t\t\t<h3>Plan {{i}}</h3>\n",
    "\t  \t\t<button type=\"button\" class=\"btn btn-sm btn-info collapsed\" data-toggle=\"collapse\" data-target={{'#demo' ~ i}}>More</button>\n",
    "\t  \t\t<div id={{'demo' ~ i}} class=\"collapse\">\n",
    "\t  \t\t\t<br>\n",
    "                <p>Plan ID: {{ result['_source']['plan_id'] }}</p>\n",
    "\t\t\t    <p>Contact: {{ result['_source']['plan_contact'] }}</p>\n",
    "\t\t\t\t<p>(Show similar plans to this one)</p>\n",
    "\t\t \t</div>\n",
    "\t\t \t<br>\n",
    "\t\t \t<a id={{'plan' ~ i}} href=\"http://google.com\">SIGN UP</a>\n",
    "\t\t</div>\n",
    "    {% endfor %}\n",
    "​\n",
    "\t</body>\n",
    "​\n",
    "</html>"
   ]
  },
  {
   "cell_type": "code",
   "execution_count": null,
   "metadata": {
    "collapsed": true
   },
   "outputs": [],
   "source": []
  }
 ],
 "metadata": {
  "kernelspec": {
   "display_name": "Python 2",
   "language": "python",
   "name": "python2"
  },
  "language_info": {
   "codemirror_mode": {
    "name": "ipython",
    "version": 2
   },
   "file_extension": ".py",
   "mimetype": "text/x-python",
   "name": "python",
   "nbconvert_exporter": "python",
   "pygments_lexer": "ipython2",
   "version": "2.7.11"
  }
 },
 "nbformat": 4,
 "nbformat_minor": 0
}
