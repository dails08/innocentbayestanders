{
 "cells": [
  {
   "cell_type": "code",
   "execution_count": 9,
   "metadata": {
    "collapsed": true
   },
   "outputs": [],
   "source": [
    "import sas7bdat as sas\n",
    "import sqlite3"
   ]
  },
  {
   "cell_type": "code",
   "execution_count": 13,
   "metadata": {
    "collapsed": false
   },
   "outputs": [
    {
     "name": "stdout",
     "output_type": "stream",
     "text": [
      "[u'UNIQUE_PRSCRBR_ID', u'BN', u'BENE_COUNT', u'CLAIM_COUNT', u'CLAIM_COUNT_DAW', u'CLAIM_COUNT_CMPND', u'QUANTITY_SUM', u'DAY_SUPPLY_SUM', u'GROSS_DRUG_COST_SUM1']\n",
      "[1.0, u'ACETAMINOPHEN-CODEINE', -6.0, 14.0, 0.0, 0.0, 1130.0, 387.0, 275.46000000000004]\n",
      "[1.0, u'ACYCLOVIR', -6.0, 29.0, 0.0, 0.0, 2106.0, 510.0, 629.94]\n",
      "[1.0, u'ADVAIR DISKUS', -6.0, 24.0, 0.0, 0.0, 1440.0, 720.0, 6035.460000000001]\n",
      "[1.0, u'AGGRENOX', -6.0, 11.0, 0.0, 0.0, 660.0, 330.0, 2616.1]\n",
      "[1.0, u'ALENDRONATE SODIUM', -6.0, 56.0, 0.0, 0.0, 382.0, 2689.0, 650.47]\n"
     ]
    }
   ],
   "source": [
    "\n",
    "i = 0\n",
    "for line in sas.SAS7BDAT(\"../pp_ccwid_bn_2012_r.sas7bdat\"):\n",
    "    print line\n",
    "    i += 1\n",
    "    if i > 5:\n",
    "        break"
   ]
  },
  {
   "cell_type": "code",
   "execution_count": 16,
   "metadata": {
    "collapsed": false
   },
   "outputs": [],
   "source": [
    "raw_data = sas.SAS7BDAT(\"../pp_ccwid_bn_2012_r.sas7bdat\")"
   ]
  },
  {
   "cell_type": "code",
   "execution_count": 22,
   "metadata": {
    "collapsed": true
   },
   "outputs": [],
   "source": [
    "sample_data = []\n",
    "\n",
    "i = 0\n",
    "for line in raw_data:\n",
    "    if i > 0:\n",
    "        sample_data.append(line)\n",
    "    if i > 5:\n",
    "        break\n",
    "    i += 1\n",
    "\n",
    "        "
   ]
  },
  {
   "cell_type": "code",
   "execution_count": 24,
   "metadata": {
    "collapsed": false
   },
   "outputs": [
    {
     "name": "stdout",
     "output_type": "stream",
     "text": [
      "[1.0, u'ACETAMINOPHEN-CODEINE', -6.0, 14.0, 0.0, 0.0, 1130.0, 387.0, 275.46000000000004]\n",
      "[1.0, u'ACYCLOVIR', -6.0, 29.0, 0.0, 0.0, 2106.0, 510.0, 629.94]\n",
      "[1.0, u'ADVAIR DISKUS', -6.0, 24.0, 0.0, 0.0, 1440.0, 720.0, 6035.460000000001]\n",
      "[1.0, u'AGGRENOX', -6.0, 11.0, 0.0, 0.0, 660.0, 330.0, 2616.1]\n",
      "[1.0, u'ALENDRONATE SODIUM', -6.0, 56.0, 0.0, 0.0, 382.0, 2689.0, 650.47]\n",
      "[1.0, u'ALLOPURINOL', -6.0, 35.0, 0.0, 0.0, 1830.0, 1830.0, 216.96000000000004]\n"
     ]
    }
   ],
   "source": [
    "for line in sample_data:\n",
    "    print line"
   ]
  },
  {
   "cell_type": "code",
   "execution_count": 2,
   "metadata": {
    "collapsed": false
   },
   "outputs": [],
   "source": [
    "conn = sqlite3.connect(\"drugs.db\")"
   ]
  },
  {
   "cell_type": "code",
   "execution_count": 7,
   "metadata": {
    "collapsed": false
   },
   "outputs": [
    {
     "data": {
      "text/plain": [
       "<sqlite3.Cursor at 0x7fcdc42b5f80>"
      ]
     },
     "execution_count": 7,
     "metadata": {},
     "output_type": "execute_result"
    }
   ],
   "source": [
    "conn.execute\\\n",
    "('CREATE TABLE medd (perscriber_id int, bn text, bene_count int, claim_count int, clain_count_daw int,' + \\\n",
    " 'claim_count_cmpnd int, quantity_sum int, day_supply_sum int, gross_drug_cost_sum real);')"
   ]
  },
  {
   "cell_type": "code",
   "execution_count": 25,
   "metadata": {
    "collapsed": false
   },
   "outputs": [
    {
     "data": {
      "text/plain": [
       "<sqlite3.Cursor at 0x7fcdc4318730>"
      ]
     },
     "execution_count": 25,
     "metadata": {},
     "output_type": "execute_result"
    }
   ],
   "source": [
    "conn.executemany(\"INSERT INTO medd VALUES (?,?,?,?,?,?,?,?,?);\", sample_data)"
   ]
  },
  {
   "cell_type": "code",
   "execution_count": 28,
   "metadata": {
    "collapsed": false
   },
   "outputs": [
    {
     "name": "stdout",
     "output_type": "stream",
     "text": [
      "(1, u'ACETAMINOPHEN-CODEINE', -6, 14, 0, 0, 1130, 387, 275.46000000000004)\n",
      "(1, u'ACYCLOVIR', -6, 29, 0, 0, 2106, 510, 629.94)\n",
      "(1, u'ADVAIR DISKUS', -6, 24, 0, 0, 1440, 720, 6035.460000000001)\n",
      "(1, u'AGGRENOX', -6, 11, 0, 0, 660, 330, 2616.1)\n",
      "(1, u'ALENDRONATE SODIUM', -6, 56, 0, 0, 382, 2689, 650.47)\n",
      "(1, u'ALLOPURINOL', -6, 35, 0, 0, 1830, 1830, 216.96000000000004)\n"
     ]
    }
   ],
   "source": [
    "for row in conn.execute(\"SELECT * FROM medd;\"):\n",
    "    print row"
   ]
  },
  {
   "cell_type": "code",
   "execution_count": null,
   "metadata": {
    "collapsed": true
   },
   "outputs": [],
   "source": []
  }
 ],
 "metadata": {
  "kernelspec": {
   "display_name": "Python 2",
   "language": "python",
   "name": "python2"
  },
  "language_info": {
   "codemirror_mode": {
    "name": "ipython",
    "version": 2
   },
   "file_extension": ".py",
   "mimetype": "text/x-python",
   "name": "python",
   "nbconvert_exporter": "python",
   "pygments_lexer": "ipython2",
   "version": "2.7.11"
  }
 },
 "nbformat": 4,
 "nbformat_minor": 0
}
