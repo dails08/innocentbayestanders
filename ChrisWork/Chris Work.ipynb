{
 "cells": [
  {
   "cell_type": "markdown",
   "metadata": {},
   "source": [
    "# Initial EDA for Opioid Abuse Topic"
   ]
  },
  {
   "cell_type": "code",
   "execution_count": null,
   "metadata": {
    "collapsed": true
   },
   "outputs": [],
   "source": [
    "import sas7bdat as sas\n",
    "import sqlite3\n",
    "import time"
   ]
  },
  {
   "cell_type": "markdown",
   "metadata": {
    "collapsed": true
   },
   "source": [
    "The medicare data is a couple of gigs, so load it into a db rather than into memory"
   ]
  },
  {
   "cell_type": "code",
   "execution_count": 3,
   "metadata": {
    "collapsed": false
   },
   "outputs": [
    {
     "name": "stdout",
     "output_type": "stream",
     "text": [
      "[u'UNIQUE_PRSCRBR_ID', u'BN', u'BENE_COUNT', u'CLAIM_COUNT', u'CLAIM_COUNT_DAW', u'CLAIM_COUNT_CMPND', u'QUANTITY_SUM', u'DAY_SUPPLY_SUM', u'GROSS_DRUG_COST_SUM1']\n",
      "[1.0, u'ACETAMINOPHEN-CODEINE', -6.0, 14.0, 0.0, 0.0, 1130.0, 387.0, 275.46000000000004]\n",
      "[1.0, u'ACYCLOVIR', -6.0, 29.0, 0.0, 0.0, 2106.0, 510.0, 629.94]\n",
      "[1.0, u'ADVAIR DISKUS', -6.0, 24.0, 0.0, 0.0, 1440.0, 720.0, 6035.460000000001]\n",
      "[1.0, u'AGGRENOX', -6.0, 11.0, 0.0, 0.0, 660.0, 330.0, 2616.1]\n",
      "[1.0, u'ALENDRONATE SODIUM', -6.0, 56.0, 0.0, 0.0, 382.0, 2689.0, 650.47]\n"
     ]
    }
   ],
   "source": [
    "\n",
    "i = 0\n",
    "for line in sas.SAS7BDAT(\"./pp_ccwid_bn_2012_r.sas7bdat\"):\n",
    "    print line\n",
    "    i += 1\n",
    "    if i > 5:\n",
    "        break"
   ]
  },
  {
   "cell_type": "code",
   "execution_count": 4,
   "metadata": {
    "collapsed": false
   },
   "outputs": [],
   "source": [
    "raw_data = sas.SAS7BDAT(\"./pp_ccwid_bn_2012_r.sas7bdat\")"
   ]
  },
  {
   "cell_type": "markdown",
   "metadata": {},
   "source": [
    "Make a small sample set for testing"
   ]
  },
  {
   "cell_type": "code",
   "execution_count": 5,
   "metadata": {
    "collapsed": true
   },
   "outputs": [],
   "source": [
    "sample_data = []\n",
    "\n",
    "i = 0\n",
    "for line in raw_data:\n",
    "    if i > 0:\n",
    "        sample_data.append(line)\n",
    "    if i > 5:\n",
    "        break\n",
    "    i += 1\n",
    "\n",
    "        "
   ]
  },
  {
   "cell_type": "code",
   "execution_count": 6,
   "metadata": {
    "collapsed": false
   },
   "outputs": [
    {
     "name": "stdout",
     "output_type": "stream",
     "text": [
      "[1.0, u'ACETAMINOPHEN-CODEINE', -6.0, 14.0, 0.0, 0.0, 1130.0, 387.0, 275.46000000000004]\n",
      "[1.0, u'ACYCLOVIR', -6.0, 29.0, 0.0, 0.0, 2106.0, 510.0, 629.94]\n",
      "[1.0, u'ADVAIR DISKUS', -6.0, 24.0, 0.0, 0.0, 1440.0, 720.0, 6035.460000000001]\n",
      "[1.0, u'AGGRENOX', -6.0, 11.0, 0.0, 0.0, 660.0, 330.0, 2616.1]\n",
      "[1.0, u'ALENDRONATE SODIUM', -6.0, 56.0, 0.0, 0.0, 382.0, 2689.0, 650.47]\n",
      "[1.0, u'ALLOPURINOL', -6.0, 35.0, 0.0, 0.0, 1830.0, 1830.0, 216.96000000000004]\n"
     ]
    }
   ],
   "source": [
    "for line in sample_data:\n",
    "    print line"
   ]
  },
  {
   "cell_type": "code",
   "execution_count": 8,
   "metadata": {
    "collapsed": false
   },
   "outputs": [],
   "source": [
    "conn = sqlite3.connect(\"drugs.db\")"
   ]
  },
  {
   "cell_type": "code",
   "execution_count": 10,
   "metadata": {
    "collapsed": false
   },
   "outputs": [
    {
     "ename": "OperationalError",
     "evalue": "table medd already exists",
     "output_type": "error",
     "traceback": [
      "\u001b[1;31m---------------------------------------------------------------------------\u001b[0m",
      "\u001b[1;31mOperationalError\u001b[0m                          Traceback (most recent call last)",
      "\u001b[1;32m<ipython-input-10-75ed94a5914a>\u001b[0m in \u001b[0;36m<module>\u001b[1;34m()\u001b[0m\n\u001b[1;32m----> 1\u001b[1;33m \u001b[0mconn\u001b[0m\u001b[1;33m.\u001b[0m\u001b[0mexecute\u001b[0m\u001b[1;33m(\u001b[0m\u001b[1;34m'CREATE TABLE medd (perscriber_id int, bn text, bene_count int, claim_count int, clain_count_daw int,'\u001b[0m \u001b[1;33m+\u001b[0m  \u001b[1;34m'claim_count_cmpnd int, quantity_sum int, day_supply_sum int, gross_drug_cost_sum real);'\u001b[0m\u001b[1;33m)\u001b[0m\u001b[1;33m\u001b[0m\u001b[0m\n\u001b[0m",
      "\u001b[1;31mOperationalError\u001b[0m: table medd already exists"
     ]
    }
   ],
   "source": [
    "conn.execute\\\n",
    "('CREATE TABLE medd (perscriber_id int, bn text, bene_count int, claim_count int, clain_count_daw int,' + \\\n",
    " 'claim_count_cmpnd int, quantity_sum int, day_supply_sum int, gross_drug_cost_sum real);')"
   ]
  },
  {
   "cell_type": "code",
   "execution_count": 11,
   "metadata": {
    "collapsed": false
   },
   "outputs": [
    {
     "data": {
      "text/plain": [
       "<sqlite3.Cursor at 0x7f12fd4667a0>"
      ]
     },
     "execution_count": 11,
     "metadata": {},
     "output_type": "execute_result"
    }
   ],
   "source": [
    "conn.executemany(\"INSERT INTO medd VALUES (?,?,?,?,?,?,?,?,?);\", sample_data)"
   ]
  },
  {
   "cell_type": "code",
   "execution_count": 12,
   "metadata": {
    "collapsed": false
   },
   "outputs": [
    {
     "name": "stdout",
     "output_type": "stream",
     "text": [
      "(1, u'ACETAMINOPHEN-CODEINE', -6, 14, 0, 0, 1130, 387, 275.46000000000004)\n",
      "(1, u'ACYCLOVIR', -6, 29, 0, 0, 2106, 510, 629.94)\n",
      "(1, u'ADVAIR DISKUS', -6, 24, 0, 0, 1440, 720, 6035.460000000001)\n",
      "(1, u'AGGRENOX', -6, 11, 0, 0, 660, 330, 2616.1)\n",
      "(1, u'ALENDRONATE SODIUM', -6, 56, 0, 0, 382, 2689, 650.47)\n",
      "(1, u'ALLOPURINOL', -6, 35, 0, 0, 1830, 1830, 216.96000000000004)\n"
     ]
    }
   ],
   "source": [
    "for row in conn.execute(\"SELECT * FROM medd;\"):\n",
    "    print row"
   ]
  },
  {
   "cell_type": "code",
   "execution_count": 19,
   "metadata": {
    "collapsed": false
   },
   "outputs": [
    {
     "data": {
      "text/plain": [
       "<sqlite3.Cursor at 0x7f12fd4666c0>"
      ]
     },
     "execution_count": 19,
     "metadata": {},
     "output_type": "execute_result"
    }
   ],
   "source": [
    "conn.execute(\"DELETE FROM medd;\")"
   ]
  },
  {
   "cell_type": "code",
   "execution_count": 20,
   "metadata": {
    "collapsed": true
   },
   "outputs": [],
   "source": [
    "for row in conn.execute(\"SELECT * FROM medd;\"):\n",
    "    print row"
   ]
  },
  {
   "cell_type": "markdown",
   "metadata": {},
   "source": [
    "Load the actual data.  ~ 45 minutes on a nano EC2 instance."
   ]
  },
  {
   "cell_type": "code",
   "execution_count": 22,
   "metadata": {
    "collapsed": false
   },
   "outputs": [
    {
     "name": "stdout",
     "output_type": "stream",
     "text": [
      "Finished in 2764.21442914s\n"
     ]
    }
   ],
   "source": [
    "start_time = time.time()\n",
    "conn.executemany(\"INSERT INTO medd VALUES (?,?,?,?,?,?,?,?,?);\", raw_data)\n",
    "duration = time.time() - start_time\n",
    "print \"Finished in \" + str(duration) + \"s\""
   ]
  },
  {
   "cell_type": "markdown",
   "metadata": {},
   "source": [
    "Look for some basic opioids.  There are a lot."
   ]
  },
  {
   "cell_type": "code",
   "execution_count": 29,
   "metadata": {
    "collapsed": false
   },
   "outputs": [
    {
     "name": "stdout",
     "output_type": "stream",
     "text": [
      "(u'OXYCODONE CONCENTRATE', 473)\n",
      "(u'OXYCODONE HCL', 74103)\n",
      "(u'OXYCODONE HCL-ACETAMINOPHEN', 45724)\n",
      "(u'OXYCODONE HCL-ASPIRIN', 204)\n",
      "(u'OXYCODONE HCL-IBUPROFEN', 5)\n",
      "(u'OXYCODONE-ACETAMINOPHEN', 120276)\n",
      "(u'OXYCODONE-ASPIRIN', 10)\n"
     ]
    }
   ],
   "source": [
    "for row in conn.execute(\"SELECT bn, COUNT(bn) FROM medd GROUP BY bn HAVING bn LIKE '%OXYCODONE%';\"):\n",
    "    print row"
   ]
  },
  {
   "cell_type": "markdown",
   "metadata": {},
   "source": [
    "Check how many unique perscribers there are.  ~783k"
   ]
  },
  {
   "cell_type": "code",
   "execution_count": 30,
   "metadata": {
    "collapsed": false
   },
   "outputs": [
    {
     "name": "stdout",
     "output_type": "stream",
     "text": [
      "(783117,)\n"
     ]
    }
   ],
   "source": [
    "for row in conn.execute(\"SELECT COUNT(DISTINCT perscriber_id) FROM medd;\"):\n",
    "    print row"
   ]
  },
  {
   "cell_type": "markdown",
   "metadata": {},
   "source": [
    "The perscriber IDs are normalized, though, and won't help in joining to other data."
   ]
  },
  {
   "cell_type": "code",
   "execution_count": 32,
   "metadata": {
    "collapsed": false
   },
   "outputs": [
    {
     "name": "stdout",
     "output_type": "stream",
     "text": [
      "(u'UNIQUE_PRSCRBR_ID',)\n",
      "(1,)\n",
      "(2,)\n",
      "(3,)\n",
      "(5,)\n",
      "(6,)\n",
      "(7,)\n",
      "(9,)\n",
      "(10,)\n",
      "(13,)\n",
      "(15,)\n",
      "(17,)\n",
      "(18,)\n",
      "(19,)\n",
      "(21,)\n",
      "(23,)\n",
      "(25,)\n",
      "(27,)\n",
      "(30,)\n",
      "(31,)\n",
      "(32,)\n",
      "(33,)\n",
      "(34,)\n",
      "(35,)\n",
      "(36,)\n",
      "(39,)\n",
      "(41,)\n",
      "(42,)\n",
      "(44,)\n",
      "(46,)\n",
      "(47,)\n",
      "(50,)\n",
      "(54,)\n",
      "(55,)\n",
      "(58,)\n",
      "(59,)\n",
      "(61,)\n",
      "(62,)\n",
      "(66,)\n",
      "(68,)\n",
      "(69,)\n",
      "(70,)\n",
      "(72,)\n",
      "(75,)\n",
      "(78,)\n",
      "(79,)\n",
      "(80,)\n",
      "(85,)\n",
      "(88,)\n",
      "(89,)\n",
      "(90,)\n"
     ]
    }
   ],
   "source": [
    "i = 0\n",
    "for row in conn.execute(\"SELECT DISTINCT perscriber_id FROM medd;\"):\n",
    "    print row\n",
    "    i += 1\n",
    "    if i > 50:\n",
    "        break"
   ]
  },
  {
   "cell_type": "markdown",
   "metadata": {},
   "source": [
    "There's potential for graph-based analysis of drug perscriptions, but since the opioid prompt seems to be looking for early detection medicare data isn't great.  What about the End Stage Renal Disease prompt?  This seems just right for medicare data.  Check for common perscrptions for Chronic Kidney Disease symptoms."
   ]
  },
  {
   "cell_type": "code",
   "execution_count": 33,
   "metadata": {
    "collapsed": false
   },
   "outputs": [
    {
     "name": "stdout",
     "output_type": "stream",
     "text": [
      "(u'CALCITRIOL', 19433)\n"
     ]
    }
   ],
   "source": [
    "for row in conn.execute(\"SELECT bn, COUNT(bn) FROM medd GROUP BY bn HAVING bn LIKE '%CALCITRIOL%';\"):\n",
    "    print row"
   ]
  },
  {
   "cell_type": "code",
   "execution_count": 34,
   "metadata": {
    "collapsed": true
   },
   "outputs": [],
   "source": [
    "for row in conn.execute(\"SELECT bn, COUNT(bn) FROM medd GROUP BY bn HAVING bn LIKE '%PARICALCITOL%';\"):\n",
    "    print row"
   ]
  },
  {
   "cell_type": "markdown",
   "metadata": {},
   "source": [
    "Might be useful for later."
   ]
  },
  {
   "cell_type": "code",
   "execution_count": 35,
   "metadata": {
    "collapsed": true
   },
   "outputs": [],
   "source": [
    "conn.commit()"
   ]
  },
  {
   "cell_type": "code",
   "execution_count": null,
   "metadata": {
    "collapsed": true
   },
   "outputs": [],
   "source": []
  }
 ],
 "metadata": {
  "kernelspec": {
   "display_name": "Python 2",
   "language": "python",
   "name": "python2"
  },
  "language_info": {
   "codemirror_mode": {
    "name": "ipython",
    "version": 2
   },
   "file_extension": ".py",
   "mimetype": "text/x-python",
   "name": "python",
   "nbconvert_exporter": "python",
   "pygments_lexer": "ipython2",
   "version": "2.7.11"
  }
 },
 "nbformat": 4,
 "nbformat_minor": 0
}
